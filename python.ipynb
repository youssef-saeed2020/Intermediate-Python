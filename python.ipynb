{
 "cells": [
  {
   "cell_type": "markdown",
   "metadata": {},
   "source": [
    "Dealing with the Lists "
   ]
  },
  {
   "cell_type": "code",
   "execution_count": 67,
   "metadata": {},
   "outputs": [
    {
     "name": "stdout",
     "output_type": "stream",
     "text": [
      "['Youssef Saeed', 1, 2, 1]\n",
      "[]\n",
      "1\n",
      "[1, 2]\n",
      "Youssef Saeed\n",
      "Youssef Saeed\n",
      "1\n",
      "2\n",
      "1\n",
      "There is no thing in the list called that \n",
      "4\n",
      "['Youssef Saeed', 1, 2, 1, 0]\n",
      "[5, 'Youssef Saeed', 1, 2, 1, 0]\n",
      "[5, 'Youssef Saeed', 1, 2, 1]\n",
      "['Youssef Saeed', 1, 2, 1]\n",
      "[1, 2, 1, 'Youssef Saeed']\n",
      "['A', 'B', 'a']\n",
      "[1, 1, 1, 1, 1]\n",
      "[1, 1, 1, 1, 1, 1, 2, 3, 4, 5, 6]\n",
      "[2, 3]\n",
      "[6, 4, 2]\n",
      "[6, 5, 4, 3, 2, 1]\n",
      "[10, 2, 3, 4, 5, 6] 2026993376128\n",
      "[10, 2, 3, 4, 5, 6] 2026993376128\n",
      "[1, 2, 3, 4, 5, 6]\n",
      "[1, 4, 9, 16, 25, 36]\n"
     ]
    }
   ],
   "source": [
    "list1=[\"Youssef Saeed\",1,2,1]\n",
    "print((list1))\n",
    "\n",
    "list2 = list() # This is empty list\n",
    "print(list2)\n",
    "\n",
    "\n",
    "print(list1[3]) #access the first item from the Start\n",
    "print(list1[1:3])\n",
    "print(list1[-4]) #access the first item from the end \n",
    "\n",
    "for i in list1: #for loop on the list \n",
    "    print(i)\n",
    "\n",
    "if \"Youssef saeed\" in list1: # check for anything exists in the list or not \n",
    "    print(\"This exists in the list\")\n",
    "else:\n",
    "    print(\"There is no thing in the list called that \") \n",
    "\n",
    "print(len(list1)) #print how many elements in the list\n",
    "\n",
    "list1.append(0)# will add item at the end\n",
    "print(list1)\n",
    " \n",
    "list1.insert(0,5) # first is the index and the second is the item\n",
    "print(list1)\n",
    "\n",
    "list1.pop() # wil remove the last item\n",
    "print(list1)\n",
    "\n",
    "list1.remove(5) # will remove a specific element\n",
    "print(list1)\n",
    "\n",
    "list1.reverse()\n",
    "print(list1)\n",
    "\n",
    "# for the sorting with the ASCII characters\n",
    "list3 = [\"A\",\"a\",\"B\"]\n",
    "list3.sort()\n",
    "print(list3)\n",
    "\n",
    "list4 = [1] * 5\n",
    "print(list4)\n",
    "\n",
    "list5 = [1,2,3,4,5,6]\n",
    "print(list4 + list5) # will do only the concatenation\n",
    "\n",
    "print(list5[1:3]) # slicing the list \n",
    "print(list5[-1:-6:-2]) # first is the start and the second is the end and the third is the steps\n",
    "\n",
    "\n",
    "print(list5[::-1]) # will doing the reverse for the list\n",
    "\n",
    "\n",
    "list_org = [1,2,3,4,5,6]\n",
    "list_cp = list_org\n",
    "list_cp.append(8) # will also append  the element in the  origin\n",
    "list_cp.pop() # will also remove the last element of the origin\n",
    "list_org[0] = 10\n",
    "print(list_cp,id(list_cp))\n",
    "print(list_org,id(list_org))\n",
    "\n",
    "a = [1,2,3,4,5,6]\n",
    "b=[i*i for i in a ]\n",
    "print(a)\n",
    "print(b)\n",
    "\n",
    "\n",
    "\n",
    "\n"
   ]
  },
  {
   "cell_type": "markdown",
   "metadata": {},
   "source": [
    "Dealing with the Tuples"
   ]
  },
  {
   "cell_type": "code",
   "execution_count": 43,
   "metadata": {},
   "outputs": [
    {
     "name": "stdout",
     "output_type": "stream",
     "text": [
      "('max', 1, 2, 3, 4, 5)\n",
      "<class 'tuple'>\n",
      "5\n",
      "max\n",
      "1\n",
      "2\n",
      "3\n",
      "4\n",
      "5\n",
      "Not Exists\n",
      "6\n",
      "1\n",
      "0\n",
      "['max', 1, 2, 3, 4, 5]\n",
      "<class 'list'>\n",
      "(2, 3, 4)\n",
      "max\n",
      "[20, 'min']\n",
      "youssef\n",
      "136\n",
      "112 bytes\n",
      "0.20842210001137573\n",
      "0.03942109999479726\n"
     ]
    }
   ],
   "source": [
    "t1=tuple([\"max\",1,2,3,4,5])\n",
    "\n",
    "print(t1)\n",
    "print(type(t1))\n",
    "print(t1[-1])\n",
    "for i in t1:\n",
    "    print(i)\n",
    "if \"max \" in t1:\n",
    "    print(\"Exists\")\n",
    "else:\n",
    "    print(\"Not Exists\")      \n",
    "\n",
    "print(len(t1))\n",
    "print(t1.count(\"max\"))\n",
    "print(t1.index(\"max\"))\n",
    "\n",
    "\n",
    "list1 = list(t1)\n",
    "print(list1)\n",
    "print(type(list1))\n",
    "\n",
    "print(t1[2:5])\n",
    "\n",
    "t2 = \"max\",20,\"min\",\"youssef\"\n",
    "name , *age, joe = t2\n",
    "print(name)\n",
    "print(age)\n",
    "print(joe)\n",
    "\n",
    "import sys\n",
    "import timeit\n",
    "list3 = [1,2,3,4,5,6,7,8,9]\n",
    "tup3 = (1,2,3,4,5,6,7,8,9)\n",
    "print(sys.getsizeof(list3))\n",
    "print(sys.getsizeof(tup3),\"bytes\")\n",
    "\n",
    "print(timeit.timeit(stmt=\"[1,2,3,4,5,6]\",number=1000000))\n",
    "print(timeit.timeit(stmt=\"(1,2,3,4,5,6)\",number=1000000))\n",
    "\n",
    "\n",
    "\n"
   ]
  },
  {
   "cell_type": "markdown",
   "metadata": {},
   "source": [
    "Dealing with the Dictionary"
   ]
  },
  {
   "cell_type": "code",
   "execution_count": 29,
   "metadata": {},
   "outputs": [
    {
     "name": "stdout",
     "output_type": "stream",
     "text": [
      "{'Name': 'Youssef Saeed', 'Age': 20, 'Address': 'Alex'}\n",
      "{'Name': 'Youssef Saeed', 'Age': 20, 'Address': 'Alex'}\n",
      "Youssef Saeed\n",
      "{'Name': 'Thabet Gad', 'Age': 20, 'Address': 'Alex'}\n",
      "{'Name': 'Thabet Gad', 'Age': 20}\n",
      "Exists\n",
      "Error\n",
      "Name Thabet Gad\n",
      "Age 20\n",
      "{(6, 10): 16}\n"
     ]
    }
   ],
   "source": [
    "dic1 =dict(Name=\"Youssef Saeed\",Age = 20 ,Address = \"Alex\")\n",
    "dic2 ={ \"Name\":\"Youssef Saeed\",\"Age\": 20 ,\"Address\" : \"Alex\"} #Second Way for the dictionary\n",
    "\n",
    "print(dic1)\n",
    "print(dic2)\n",
    "\n",
    "print(dic1[\"Name\"])\n",
    "dic1[\"Name\"] = \"Thabet Gad\"\n",
    "print(dic1)\n",
    "dic1.popitem()\n",
    "print(dic1)\n",
    "\n",
    "if \"Name\" in dic1:\n",
    "    print(\"Exists\")\n",
    "else:\n",
    "    print(\"Not Exists\")  \n",
    "\n",
    "try:\n",
    "    print(dic1[\"name\"])\n",
    "\n",
    "except:\n",
    "    print(\"Error\")\n",
    "\n",
    "for i,j  in dic1.items():\n",
    "    print(i,j)    \n",
    "\n",
    "mytyple = (6,10)\n",
    "mydic = {mytyple : 16}\n",
    "print(mydic)"
   ]
  },
  {
   "cell_type": "markdown",
   "metadata": {},
   "source": [
    "Sets (Unordred, Mutable (Yous can Change Later) , no duplicates)"
   ]
  },
  {
   "cell_type": "code",
   "execution_count": 40,
   "metadata": {},
   "outputs": [
    {
     "name": "stdout",
     "output_type": "stream",
     "text": [
      "{1, 2, 3}\n",
      "{'Youssef', 'Saeed', 'Hello'}\n",
      "{'s', ' ', 'e', 't', 'f', 'b', 'u', 'd', 'a', 'h', 'o', 'Y'}\n",
      "{10, 1, 2, 3}\n",
      "{10, 1, 3}\n",
      "10\n",
      "1\n",
      "3\n",
      "not exists\n",
      "{1, 2, 3, 4, 5, 6, 7, 8, 9}\n",
      "set()\n",
      "{3, 5, 7}\n",
      "{1, 3, 5, 7, 9}\n",
      "------------------------------\n",
      "{1, 2, 3, 4, 5, 6, 7, 8, 9}\n",
      "{1, 2, 3, 4, 5, 6, 7, 8, 9}\n",
      "************************\n",
      "False\n",
      "True\n",
      "True\n",
      "False\n",
      "False\n",
      "True\n",
      "{1, 2, 3, 4, 5, 6, 7}\n",
      "{1, 2, 3, 4, 5, 6}\n",
      "frozenset({1, 2, 3, 4, 5})\n"
     ]
    }
   ],
   "source": [
    "myset={1,2,3,1,2,3}\n",
    "print(myset)\n",
    "\n",
    "myset1 = set([1,2,3,4])\n",
    "myset2 = set([\"Hello\",\"Youssef\",\"Saeed\"])\n",
    "\n",
    "print(myset2)\n",
    "name=\"Youssef saeed thabet\"\n",
    "print(set(name))\n",
    "myset.add(10)\n",
    "print(myset)\n",
    "myset.remove(2)\n",
    "print(myset)\n",
    "\n",
    "print(myset.pop())\n",
    "\n",
    "\n",
    "for i in myset:\n",
    "    print(i)\n",
    "\n",
    "if 100 in myset:\n",
    "    print(\"Exists\")\n",
    "else:\n",
    "    print(\"not exists\")    \n",
    "\n",
    "odds={1,3,5,7,9}\n",
    "evens={2,4,6,8}\n",
    "primes={2,3,5,7}\n",
    "\n",
    "union=odds.union(evens)\n",
    "print(union)\n",
    "\n",
    "intersection = odds.intersection(evens)\n",
    "print(intersection)\n",
    "\n",
    "intersection = odds.intersection(primes)\n",
    "print(intersection)\n",
    "\n",
    "\n",
    "diff= odds.difference(evens)\n",
    "print(diff)\n",
    "print(\"------------------------------\")\n",
    "sysdiff = odds.symmetric_difference(evens)\n",
    "print(sysdiff)\n",
    "\n",
    "odds.update(evens)\n",
    "print(odds)\n",
    "\n",
    "print(\"************************\")\n",
    "\n",
    "seta={1,2,3,4,5,6}\n",
    "setb={3,4,5,6}\n",
    "setc={7,8,9}\n",
    "\n",
    "print(seta.issubset(setb))\n",
    "print(setb.issubset(seta))\n",
    "\n",
    "print(seta.issuperset(setb))\n",
    "print(setb.issuperset(seta))\n",
    "\n",
    "print(seta.isdisjoint(setb))\n",
    "print(seta.isdisjoint(setc))\n",
    "\n",
    "setA={1,2,3,4,5,6}\n",
    "setB=setA.copy()\n",
    "setB.add(7)\n",
    "print(setB)\n",
    "print(setA)\n",
    "\n",
    "a = frozenset([1,2,3,4,5])\n",
    "# a.add(2)\n",
    "# a.remove(2)\n",
    "print(a) \n",
    "\n",
    "\n"
   ]
  },
  {
   "cell_type": "markdown",
   "metadata": {},
   "source": [
    "Dealing With The Strings"
   ]
  },
  {
   "cell_type": "code",
   "execution_count": 63,
   "metadata": {},
   "outputs": [
    {
     "name": "stdout",
     "output_type": "stream",
     "text": [
      "a\n",
      "['I', 'am', 'a', 'programmer!']\n",
      "I*am*a*programmer!\n",
      "20.5024706000695 S\n",
      "1000049 Bytes\n",
      "0.00800949998665601 S\n",
      "1000049 Bytes\n"
     ]
    }
   ],
   "source": [
    "str1='I am a programmer!'\n",
    "print(str1[2])\n",
    "mylist = str1.split(\" \")\n",
    "print(mylist)\n",
    "new_string = '*'.join(mylist)\n",
    "print(new_string)\n",
    "\n",
    "\n",
    "from timeit import default_timer as timer\n",
    "import sys\n",
    "\n",
    "mylist= ['a']*1000000\n",
    "start = timer()\n",
    "mystring=''\n",
    "for i in mylist:\n",
    "    mystring += i\n",
    " \n",
    "stop=timer()\n",
    "print(stop-start,\"S\")\n",
    "print(sys.getsizeof(mystring),\"Bytes\")\n",
    "\n",
    "start=timer()\n",
    "mystring2=''.join(mylist)\n",
    "stop = timer()\n",
    "print(stop-start,\"S\")\n",
    "print(sys.getsizeof(mystring2),\"Bytes\")\n",
    "\n"
   ]
  },
  {
   "cell_type": "markdown",
   "metadata": {},
   "source": [
    "Dealling With the Collections"
   ]
  },
  {
   "cell_type": "code",
   "execution_count": 88,
   "metadata": {},
   "outputs": [
    {
     "name": "stdout",
     "output_type": "stream",
     "text": [
      "Counter({'b': 13, 'a': 10, 'c': 10})\n",
      "dict_keys(['a', 'b', 'c'])\n",
      "dict_values([10, 13, 10])\n",
      "[('b', 13), ('a', 10)]\n",
      "b\n",
      "point(x=1, y=10)\n",
      "OrderedDict([('b', 2), ('d', 4), ('c', 3), ('e', 5), ('a', 1)])\n",
      "defaultdict(<class 'int'>, {'b': 2, 'c': 3, 'd': 4, 'e': 5, 'a': 'Y'})\n",
      "deque([1])\n",
      "deque([4, 3, 2, 1, 1])\n"
     ]
    }
   ],
   "source": [
    "from collections import Counter,namedtuple,OrderedDict,defaultdict,deque\n",
    "\n",
    "a=\"aaaaaaaaaabbbbbbbbbbbbbcccccccccc\"\n",
    "mycounter = Counter(a)\n",
    "print(mycounter)\n",
    "print(mycounter.keys())\n",
    "print(mycounter.values())\n",
    "print(mycounter.most_common(2))\n",
    "print(mycounter.most_common(2)[0][0])\n",
    "\n",
    "point = namedtuple('point','x, y')\n",
    "pt = point(1, 10)\n",
    "print(pt)\n",
    "\n",
    "orderedict = OrderedDict()\n",
    "orderedict['b'] = 2\n",
    "orderedict['d'] = 4\n",
    "orderedict['c'] = 3\n",
    "orderedict['e'] = 5\n",
    "orderedict['a'] = 1\n",
    "print(orderedict)\n",
    "\n",
    "\n",
    "d = defaultdict(int)\n",
    "d['b'] = 2\n",
    "d['c'] = 3\n",
    "d['d'] = 4\n",
    "d['e'] = 5\n",
    "d['a'] = \"Y\"\n",
    "print(d)\n",
    "\n",
    "dd=deque()\n",
    "dd.append(1)\n",
    "dd.append(2)\n",
    "dd.appendleft(100)\n",
    "dd.popleft()\n",
    "dd.pop()\n",
    "print(dd)\n",
    "dd.extendleft([1,2,3,4])\n",
    "dd.rotate(1)\n",
    "dd.rotate(-1)\n",
    "print(dd)\n"
   ]
  },
  {
   "cell_type": "markdown",
   "metadata": {},
   "source": [
    "Dealing With Itertools"
   ]
  },
  {
   "cell_type": "code",
   "execution_count": 58,
   "metadata": {},
   "outputs": [
    {
     "name": "stdout",
     "output_type": "stream",
     "text": [
      "[(1, 3, 1, 3), (1, 3, 1, 4), (1, 3, 2, 3), (1, 3, 2, 4), (1, 3, 5, 3), (1, 3, 5, 4), (1, 3, 3, 3), (1, 3, 3, 4), (1, 3, 4, 3), (1, 3, 4, 4), (1, 4, 1, 3), (1, 4, 1, 4), (1, 4, 2, 3), (1, 4, 2, 4), (1, 4, 5, 3), (1, 4, 5, 4), (1, 4, 3, 3), (1, 4, 3, 4), (1, 4, 4, 3), (1, 4, 4, 4), (2, 3, 1, 3), (2, 3, 1, 4), (2, 3, 2, 3), (2, 3, 2, 4), (2, 3, 5, 3), (2, 3, 5, 4), (2, 3, 3, 3), (2, 3, 3, 4), (2, 3, 4, 3), (2, 3, 4, 4), (2, 4, 1, 3), (2, 4, 1, 4), (2, 4, 2, 3), (2, 4, 2, 4), (2, 4, 5, 3), (2, 4, 5, 4), (2, 4, 3, 3), (2, 4, 3, 4), (2, 4, 4, 3), (2, 4, 4, 4), (5, 3, 1, 3), (5, 3, 1, 4), (5, 3, 2, 3), (5, 3, 2, 4), (5, 3, 5, 3), (5, 3, 5, 4), (5, 3, 3, 3), (5, 3, 3, 4), (5, 3, 4, 3), (5, 3, 4, 4), (5, 4, 1, 3), (5, 4, 1, 4), (5, 4, 2, 3), (5, 4, 2, 4), (5, 4, 5, 3), (5, 4, 5, 4), (5, 4, 3, 3), (5, 4, 3, 4), (5, 4, 4, 3), (5, 4, 4, 4), (3, 3, 1, 3), (3, 3, 1, 4), (3, 3, 2, 3), (3, 3, 2, 4), (3, 3, 5, 3), (3, 3, 5, 4), (3, 3, 3, 3), (3, 3, 3, 4), (3, 3, 4, 3), (3, 3, 4, 4), (3, 4, 1, 3), (3, 4, 1, 4), (3, 4, 2, 3), (3, 4, 2, 4), (3, 4, 5, 3), (3, 4, 5, 4), (3, 4, 3, 3), (3, 4, 3, 4), (3, 4, 4, 3), (3, 4, 4, 4), (4, 3, 1, 3), (4, 3, 1, 4), (4, 3, 2, 3), (4, 3, 2, 4), (4, 3, 5, 3), (4, 3, 5, 4), (4, 3, 3, 3), (4, 3, 3, 4), (4, 3, 4, 3), (4, 3, 4, 4), (4, 4, 1, 3), (4, 4, 1, 4), (4, 4, 2, 3), (4, 4, 2, 4), (4, 4, 5, 3), (4, 4, 5, 4), (4, 4, 3, 3), (4, 4, 3, 4), (4, 4, 4, 3), (4, 4, 4, 4)]\n",
      "[(1, 2, 5), (1, 2, 3), (1, 2, 4), (1, 5, 2), (1, 5, 3), (1, 5, 4), (1, 3, 2), (1, 3, 5), (1, 3, 4), (1, 4, 2), (1, 4, 5), (1, 4, 3), (2, 1, 5), (2, 1, 3), (2, 1, 4), (2, 5, 1), (2, 5, 3), (2, 5, 4), (2, 3, 1), (2, 3, 5), (2, 3, 4), (2, 4, 1), (2, 4, 5), (2, 4, 3), (5, 1, 2), (5, 1, 3), (5, 1, 4), (5, 2, 1), (5, 2, 3), (5, 2, 4), (5, 3, 1), (5, 3, 2), (5, 3, 4), (5, 4, 1), (5, 4, 2), (5, 4, 3), (3, 1, 2), (3, 1, 5), (3, 1, 4), (3, 2, 1), (3, 2, 5), (3, 2, 4), (3, 5, 1), (3, 5, 2), (3, 5, 4), (3, 4, 1), (3, 4, 2), (3, 4, 5), (4, 1, 2), (4, 1, 5), (4, 1, 3), (4, 2, 1), (4, 2, 5), (4, 2, 3), (4, 5, 1), (4, 5, 2), (4, 5, 3), (4, 3, 1), (4, 3, 2), (4, 3, 5)]\n",
      "[(1, 2), (1, 5), (1, 3), (1, 4), (2, 5), (2, 3), (2, 4), (5, 3), (5, 4), (3, 4)]\n",
      "[(1, 1), (1, 2), (1, 5), (1, 3), (1, 4), (2, 2), (2, 5), (2, 3), (2, 4), (5, 5), (5, 3), (5, 4), (3, 3), (3, 4), (4, 4)]\n",
      "[1, 2, 5, 5, 5]\n",
      "20 [{'name': 'Youssef', 'Age': 20}, {'name': 'Saeed', 'Age': 20}]\n",
      "40 [{'name': 'Thabet', 'Age': 40}]\n",
      "50 [{'name': 'Gad', 'Age': 50}]\n"
     ]
    }
   ],
   "source": [
    "from itertools import product,permutations,combinations,combinations_with_replacement,accumulate,groupby,count,cycle, repeat\n",
    "import operator\n",
    "a=[1,2,5,3,4]\n",
    "b=[3,4]\n",
    "\n",
    "pro = product(a,b,repeat=2) # will do cartesian product for the two list\n",
    "print(list(pro))\n",
    "\n",
    "perm = permutations(a,3) # Will print the all possible values for the list and the second argument for the len for the set\n",
    "print(list(perm))\n",
    "\n",
    "comb = combinations(a,2) # will print the possible values for the list\n",
    "print(list(comb))\n",
    "\n",
    "comwr = combinations_with_replacement(a,2) # will do the possible values for the list and the number with itself \n",
    "print(list(comwr))\n",
    "\n",
    "accu = accumulate(a) # will do the sum in the list and its the previous number \n",
    "# accu = accumulate(a, func=operator.mul) # will do the multiply in the list and its the previous number \n",
    "accu = accumulate(a, func=max) \n",
    "print(list(accu))\n",
    "\n",
    "\n",
    "persons = [{\"name\":\"Youssef\",\"Age\":20}, {\"name\":\"Saeed\",\"Age\":20}, {\"name\":\"Thabet\",\"Age\":40}, {\"name\":\"Gad\",\"Age\":50},]\n",
    "group = groupby(persons,key=lambda x : x['Age']) #  I want to group depends on the age of the person\n",
    "for key,value in group:\n",
    "    print(key,list(value))\n",
    "\n",
    "# for i in count(100):\n",
    "#     print(i)\n",
    "#     if i == 500:\n",
    "#         break\n",
    "\n",
    "# aaa=[1,2,3]\n",
    "# for i in cycle(aaa):\n",
    "#     print(i)\n",
    "\n",
    "# for i in repeat(1,4):\n",
    "#     print(i)"
   ]
  },
  {
   "cell_type": "markdown",
   "metadata": {},
   "source": [
    "Dealing With The LAMBDA && MAP"
   ]
  },
  {
   "cell_type": "code",
   "execution_count": 7,
   "metadata": {},
   "outputs": [
    {
     "name": "stdout",
     "output_type": "stream",
     "text": [
      "28\n",
      "28\n",
      "********************************\n",
      "10000000000\n",
      "10000000000\n",
      "********************************\n",
      "[(1, 2), (15, 1), (5, -1), (10, 4)]\n",
      "[(5, -1), (15, 1), (1, 2), (10, 4)]\n",
      "[2, 4, 6, 8]\n",
      "[2, 4]\n",
      "[4, 8]\n",
      "24\n"
     ]
    }
   ],
   "source": [
    "import sys\n",
    "from timeit import default_timer as timer\n",
    "from functools import reduce\n",
    "\n",
    "add10 =lambda x: x + 10\n",
    "print(sys.getsizeof(add10(5)))\n",
    "\n",
    "def addd10(x):\n",
    "    return x + 10\n",
    "print(sys.getsizeof(addd10(5))) \n",
    "\n",
    "print(\"********************************\")\n",
    "mul = lambda x,y: x**y\n",
    "print(mul(10,10))\n",
    "\n",
    "def multi(x,y):\n",
    "    return x**y\n",
    "print(multi(10,10))\n",
    "\n",
    "print(\"********************************\")\n",
    "\n",
    "pts=[(1,2),(15,1),(5,-1),(10,4)]\n",
    "pts_sorted = sorted(pts,key=lambda x: x[1])\n",
    "print(pts)\n",
    "print(pts_sorted)\n",
    "\n",
    "a=[1,2,3,4]\n",
    "b=map(lambda x: x*2,a)\n",
    "print(list(b))\n",
    "\n",
    "a=[1,2,3,4]\n",
    "b=filter(lambda x: x%2 == 0,a)\n",
    "print(list(b))\n",
    "\n",
    "c = [x*2 for x in a if x%2 == 0 ] # Is very efficient\n",
    "print(c)\n",
    "\n",
    "product_a = reduce(lambda x,y:x*y,a)\n",
    "print((product_a))\n",
    "\n",
    "\n",
    "x= -5\n",
    "assert(x >= 0 ), 'X is not positive '\n"
   ]
  },
  {
   "cell_type": "markdown",
   "metadata": {},
   "source": [
    "Dealing With the Errors As CLASSES"
   ]
  },
  {
   "cell_type": "code",
   "execution_count": 25,
   "metadata": {},
   "outputs": [
    {
     "name": "stdout",
     "output_type": "stream",
     "text": [
      "('Value is too large', 5000)\n",
      "Thanks broo\n"
     ]
    }
   ],
   "source": [
    "class valuetoohigherror(Exception):\n",
    "    def __init__(self ,message,value):\n",
    "        self.message = message\n",
    "        self.value = value\n",
    "    \n",
    "class valuetoosmallerror(Exception):\n",
    "    def __init__(self,message,value):\n",
    "        self.message = message\n",
    "        self.value = value\n",
    "def test(x):\n",
    "    if x > 100:\n",
    "        raise valuetoohigherror(\"Value is too large\",x) \n",
    "    if x < 5 :\n",
    "        raise valuetoosmallerror(\"Value is too small\",x)\n",
    "try:\n",
    "    test(5000)\n",
    "except valuetoohigherror as e:\n",
    "    print(e) \n",
    "except valuetoosmallerror as e:\n",
    "    print(e)           \n",
    "finally:\n",
    "    print(\"Thanks broo\")              \n"
   ]
  },
  {
   "cell_type": "markdown",
   "metadata": {},
   "source": [
    "Dealing With the Logging"
   ]
  },
  {
   "cell_type": "code",
   "execution_count": 1,
   "metadata": {},
   "outputs": [
    {
     "name": "stderr",
     "output_type": "stream",
     "text": [
      "07/04/2024 02:02:40 PM - root - DEBUG This is a debug error\n",
      "07/04/2024 02:02:40 PM - root - INFO This is the info message\n",
      "07/04/2024 02:02:40 PM - root - WARNING This is the Warning error\n",
      "07/04/2024 02:02:40 PM - root - ERROR This is the error message\n",
      "07/04/2024 02:02:40 PM - root - CRITICAL This is the critical message\n"
     ]
    }
   ],
   "source": [
    "import logging \n",
    "logging.basicConfig(level=logging.DEBUG, format='%(asctime)s - %(name)s - %(levelname)s %(message)s' ,\n",
    "                    datefmt='%m/%d/%Y %I:%M:%S %p' )\n",
    "\n",
    "logging.debug(\"This is a debug error\")\n",
    "logging.info(\"This is the info message\")\n",
    "logging.warning(\"This is the Warning error\")\n",
    "logging.error(\"This is the error message\")\n",
    "logging.critical(\"This is the critical message\")\n"
   ]
  },
  {
   "cell_type": "markdown",
   "metadata": {},
   "source": [
    "Dealing with the logger"
   ]
  },
  {
   "cell_type": "code",
   "execution_count": 2,
   "metadata": {},
   "outputs": [
    {
     "name": "stderr",
     "output_type": "stream",
     "text": [
      "07/04/2024 02:08:49 PM - __main__ - INFO Hello from the programmer \n",
      "07/04/2024 02:08:49 PM - __main__ - DEBUG This is a debug error\n",
      "07/04/2024 02:08:49 PM - __main__ - WARNING This is the Warning error\n",
      "07/04/2024 02:08:49 PM - __main__ - ERROR This is the error message\n",
      "07/04/2024 02:08:49 PM - __main__ - CRITICAL This is the critical message\n"
     ]
    }
   ],
   "source": [
    "import logging\n",
    "logger = logging.getLogger(__name__)\n",
    "logger.info(\"Hello from the programmer \")\n",
    "logger.debug(\"This is a debug error\")\n",
    "logger.warning(\"This is the Warning error\")\n",
    "logger.error(\"This is the error message\")\n",
    "logger.critical(\"This is the critical message\")\n",
    "\n",
    "\n"
   ]
  },
  {
   "cell_type": "code",
   "execution_count": 30,
   "metadata": {},
   "outputs": [
    {
     "name": "stderr",
     "output_type": "stream",
     "text": [
      "__main__ - WARNING This is the Warning message\n",
      "__main__ - WARNING This is the Warning message\n",
      "__main__ - WARNING This is the Warning message\n",
      "__main__ - WARNING This is the Warning message\n",
      "__main__ - WARNING This is the Warning message\n",
      "07/04/2024 06:51:55 PM - __main__ - WARNING This is the Warning message\n",
      "07/04/2024 06:51:55 PM - __main__ - WARNING This is the Warning message\n",
      "07/04/2024 06:51:55 PM - __main__ - WARNING This is the Warning message\n",
      "07/04/2024 06:51:55 PM - __main__ - WARNING This is the Warning message\n",
      "07/04/2024 06:51:55 PM - __main__ - WARNING This is the Warning message\n",
      "07/04/2024 06:51:55 PM - __main__ - WARNING This is the Warning message\n",
      "07/04/2024 06:51:55 PM - __main__ - WARNING This is the Warning message\n",
      "07/04/2024 06:51:55 PM - __main__ - WARNING This is the Warning message\n",
      "07/04/2024 06:51:55 PM - __main__ - WARNING This is the Warning message\n",
      "07/04/2024 06:51:55 PM - __main__ - WARNING This is the Warning message\n",
      "07/04/2024 06:51:55 PM - __main__ - WARNING This is the Warning message\n",
      "07/04/2024 06:51:55 PM - __main__ - WARNING This is the Warning message\n",
      "07/04/2024 06:51:55 PM - __main__ - WARNING This is the Warning message\n",
      "07/04/2024 06:51:55 PM - __main__ - WARNING This is the Warning message\n",
      "07/04/2024 06:51:55 PM - __main__ - WARNING This is the Warning message\n",
      "__main__ - ERROR This is the  Error message\n",
      "__main__ - ERROR This is the  Error message\n",
      "__main__ - ERROR This is the  Error message\n",
      "__main__ - ERROR This is the  Error message\n",
      "__main__ - ERROR This is the  Error message\n",
      "07/04/2024 06:51:55 PM - __main__ - ERROR This is the  Error message\n",
      "07/04/2024 06:51:55 PM - __main__ - ERROR This is the  Error message\n",
      "07/04/2024 06:51:55 PM - __main__ - ERROR This is the  Error message\n",
      "07/04/2024 06:51:55 PM - __main__ - ERROR This is the  Error message\n",
      "07/04/2024 06:51:55 PM - __main__ - ERROR This is the  Error message\n",
      "07/04/2024 06:51:55 PM - __main__ - ERROR This is the  Error message\n",
      "07/04/2024 06:51:55 PM - __main__ - ERROR This is the  Error message\n",
      "07/04/2024 06:51:55 PM - __main__ - ERROR This is the  Error message\n",
      "07/04/2024 06:51:55 PM - __main__ - ERROR This is the  Error message\n",
      "07/04/2024 06:51:55 PM - __main__ - ERROR This is the  Error message\n",
      "07/04/2024 06:51:55 PM - __main__ - ERROR This is the  Error message\n",
      "07/04/2024 06:51:55 PM - __main__ - ERROR This is the  Error message\n",
      "07/04/2024 06:51:55 PM - __main__ - ERROR This is the  Error message\n",
      "07/04/2024 06:51:55 PM - __main__ - ERROR This is the  Error message\n",
      "07/04/2024 06:51:55 PM - __main__ - ERROR This is the  Error message\n"
     ]
    }
   ],
   "source": [
    "import logging \n",
    "\n",
    "logger = logging.getLogger(__name__)\n",
    "stream  = logging.StreamHandler()\n",
    "file = logging.FileHandler('file.log')\n",
    "stream.setLevel(logging.WARNING)\n",
    "file.setLevel(logging.ERROR)\n",
    "\n",
    "formatter = logging.Formatter('%(asctime)s - %(name)s - %(levelname)s %(message)s' ,\n",
    "                    datefmt='%m/%d/%Y %I:%M:%S %p')\n",
    "stream.setFormatter(formatter)\n",
    "file.setFormatter(formatter)\n",
    "\n",
    "logger.addHandler(stream)\n",
    "logger.addHandler(file)\n",
    "\n",
    "logger.warning(\"This is the Warning message\")\n",
    "logger.error(\"This is the  Error message\")\n"
   ]
  },
  {
   "cell_type": "markdown",
   "metadata": {},
   "source": [
    "  Dealing With The logging"
   ]
  },
  {
   "cell_type": "code",
   "execution_count": 2,
   "metadata": {},
   "outputs": [
    {
     "name": "stderr",
     "output_type": "stream",
     "text": [
      "ERROR:root:list index out of range\n",
      "Traceback (most recent call last):\n",
      "  File \"C:\\Users\\Youssef\\AppData\\Local\\Temp\\ipykernel_20552\\3188806748.py\", line 6, in <module>\n",
      "    val = a[5]\n",
      "          ~^^^\n",
      "IndexError: list index out of range\n",
      "ERROR:root:The Error is Traceback (most recent call last):\n",
      "  File \"C:\\Users\\Youssef\\AppData\\Local\\Temp\\ipykernel_20552\\3188806748.py\", line 13, in <module>\n",
      "    vall = aa[5]\n",
      "           ~~^^^\n",
      "IndexError: list index out of range\n",
      "\n"
     ]
    }
   ],
   "source": [
    "import logging\n",
    "import traceback\n",
    "\n",
    "try:\n",
    "    a = [1,2,3]\n",
    "    val = a[5]\n",
    "\n",
    "except IndexError as i:\n",
    "    logging.error(i,exc_info=True) \n",
    "\n",
    "try:\n",
    "    aa = [1,2,3]\n",
    "    vall = aa[5]\n",
    "\n",
    "except:\n",
    "    logging.error(\"The Error is %s\",traceback.format_exc()) \n"
   ]
  },
  {
   "cell_type": "markdown",
   "metadata": {},
   "source": [
    "Dealing With JSON "
   ]
  },
  {
   "cell_type": "code",
   "execution_count": 11,
   "metadata": {},
   "outputs": [
    {
     "name": "stdout",
     "output_type": "stream",
     "text": [
      "{\n",
      "    \"Age\"= 20: \n",
      "    \"city\"= \"Alex\": \n",
      "    \"country\"= \"United States\": \n",
      "    \"name\"= \"Youssef Saeed\": \n",
      "    \"phone\"= \"01212163220\"\n",
      "}\n"
     ]
    }
   ],
   "source": [
    "import json\n",
    "\n",
    "person = {'name':'Youssef Saeed','Age':20,'city':'Alex','country':'United States','phone':'01212163220'}\n",
    "personjson = json.dumps(person,indent=4,separators=(': ','= '),sort_keys=True)\n",
    "print(personjson)\n",
    "\n",
    "#dumps for the String but the dump for the file\n",
    "\n",
    "with open('person.json', 'w') as f:\n",
    "    json.dump(person,f,indent=4)\n"
   ]
  },
  {
   "cell_type": "markdown",
   "metadata": {},
   "source": [
    "Dealing With the Json"
   ]
  },
  {
   "cell_type": "code",
   "execution_count": 12,
   "metadata": {},
   "outputs": [
    {
     "name": "stdout",
     "output_type": "stream",
     "text": [
      "{\n",
      "    \"__class__\": \"User\",\n",
      "    \"__module__\": \"__main__\",\n",
      "    \"active\": true,\n",
      "    \"age\": 28,\n",
      "    \"balance\": 20.7,\n",
      "    \"friends\": [\n",
      "        \"Jane\",\n",
      "        \"Tom\"\n",
      "    ],\n",
      "    \"name\": \"John\"\n",
      "}\n",
      "<class '__main__.User'>\n",
      "{\n",
      "    \"__class__\": \"Player\",\n",
      "    \"__module__\": \"__main__\",\n",
      "    \"level\": 5,\n",
      "    \"name\": \"Max\",\n",
      "    \"nickname\": \"max1234\"\n",
      "}\n",
      "<class '__main__.Player'>\n"
     ]
    }
   ],
   "source": [
    "class User:\n",
    "    # Custom class with all class variables given in the __init__()\n",
    "    def __init__(self, name, age, active, balance, friends):\n",
    "        self.name = name\n",
    "        self.age = age\n",
    "        self.active = active\n",
    "        self.balance = balance\n",
    "        self.friends = friends\n",
    "\n",
    "class Player:\n",
    "    # Other custom class\n",
    "    def __init__(self, name, nickname, level):\n",
    "        self.name = name\n",
    "        self.nickname = nickname\n",
    "        self.level = level\n",
    "\n",
    "\n",
    "def encode_obj(obj):\n",
    "    \"\"\"\n",
    "    Takes in a custom object and returns a dictionary representation of the object.\n",
    "    This dict representation also includes the object's module and class names.\n",
    "    \"\"\"\n",
    "\n",
    "    #  Populate the dictionary with object meta data \n",
    "    obj_dict = {\n",
    "      \"__class__\": obj.__class__.__name__,\n",
    "      \"__module__\": obj.__module__\n",
    "    }\n",
    "\n",
    "    #  Populate the dictionary with object properties\n",
    "    obj_dict.update(obj.__dict__)\n",
    "\n",
    "    return obj_dict\n",
    "\n",
    "\n",
    "def decode_dct(dct):\n",
    "    \"\"\"\n",
    "    Takes in a dict and returns a custom object associated with the dict.\n",
    "    It makes use of the \"__module__\" and \"__class__\" metadata in the dictionary\n",
    "    to know which object type to create.\n",
    "    \"\"\"\n",
    "    if \"__class__\" in dct:\n",
    "        # Pop ensures we remove metadata from the dict to leave only the instance arguments\n",
    "        class_name = dct.pop(\"__class__\")\n",
    "\n",
    "        # Get the module name from the dict and import it\n",
    "        module_name = dct.pop(\"__module__\")\n",
    "\n",
    "        # We use the built in __import__ function since the module name is not yet known at runtime\n",
    "        module = __import__(module_name)\n",
    "\n",
    "        # Get the class from the module\n",
    "        class_ = getattr(module,class_name)\n",
    "\n",
    "        # Use dictionary unpacking to initialize the object\n",
    "        # Note: This only works if all __init__() arguments of the class are exactly the dict keys\n",
    "        obj = class_(**dct)\n",
    "    else:\n",
    "        obj = dct\n",
    "    return obj\n",
    "\n",
    "# User class works with our encoding and decoding methods\n",
    "user = User(name = \"John\",age = 28, friends = [\"Jane\", \"Tom\"], balance = 20.70, active = True)\n",
    "\n",
    "userJSON = json.dumps(user,default=encode_obj,indent=4, sort_keys=True)\n",
    "print(userJSON)\n",
    "\n",
    "user_decoded = json.loads(userJSON, object_hook=decode_dct)\n",
    "print(type(user_decoded))\n",
    "\n",
    "# Player class also works with our custom encoding and decoding\n",
    "player = Player('Max', 'max1234', 5)\n",
    "playerJSON = json.dumps(player,default=encode_obj,indent=4, sort_keys=True)\n",
    "print(playerJSON)\n",
    "\n",
    "player_decoded = json.loads(playerJSON, object_hook=decode_dct)\n",
    "print(type(player_decoded))"
   ]
  },
  {
   "cell_type": "markdown",
   "metadata": {},
   "source": [
    "Dealing With The Random"
   ]
  },
  {
   "cell_type": "code",
   "execution_count": 2,
   "metadata": {},
   "outputs": [
    {
     "name": "stdout",
     "output_type": "stream",
     "text": [
      "0.13042279608514273\n",
      "91.67853636136712\n",
      "485\n",
      "640\n",
      "0.3516831407618461\n",
      " \n",
      "['s', 'S', 's', 'e']\n",
      "['Y', 's', 'u', 's', 'a', 'o', 'e', 'f', 'd', 'e', 'S', ' ', 'e']\n",
      "0.13436424411240122\n",
      "98\n",
      "0.9560342718892494\n",
      "8\n",
      "0.23796462709189137\n",
      "70\n"
     ]
    }
   ],
   "source": [
    "import random \n",
    "\n",
    "a = random.random()\n",
    "print(a)\n",
    "\n",
    "\n",
    "b = random.uniform(1, 100)\n",
    "print(b)\n",
    "\n",
    "\n",
    "c= random.randint(0,1000)\n",
    "print(c)\n",
    "\n",
    "cc= random.randrange(0,1000)\n",
    "print(cc)\n",
    "\n",
    "\n",
    "ccc= random.normalvariate(0,1)\n",
    "print(ccc)\n",
    "\n",
    "\n",
    "mylist = list(\"Youssef Saeed\")\n",
    "li = random.choice(mylist)\n",
    "print(li)\n",
    "\n",
    "mylist = list(\"Youssef Saeed\")\n",
    "li = random.sample(mylist,4)\n",
    "print(li)\n",
    "\n",
    "\n",
    "mylist1 = list(\"Youssef Saeed\")\n",
    "random.shuffle(mylist1)\n",
    "print(mylist1)\n",
    "\n",
    "random.seed(1)\n",
    "print(random.random())\n",
    "print(random.randint(1,100))\n",
    "\n",
    "\n",
    "random.seed(2)\n",
    "print(random.random())\n",
    "print(random.randint(1,100))\n",
    "\n",
    "\n",
    "random.seed(3)\n",
    "print(random.random())\n",
    "print(random.randint(1,100))\n",
    "\n"
   ]
  },
  {
   "cell_type": "markdown",
   "metadata": {},
   "source": [
    "Dealing With the secrets"
   ]
  },
  {
   "cell_type": "code",
   "execution_count": 3,
   "metadata": {},
   "outputs": [
    {
     "name": "stdout",
     "output_type": "stream",
     "text": [
      "3\n",
      "7\n",
      "o\n",
      "[4.17022005e-01 7.20324493e-01 1.14374817e-04 3.02332573e-01\n",
      " 1.46755891e-01 9.23385948e-02 1.86260211e-01 3.45560727e-01\n",
      " 3.96767474e-01 5.38816734e-01 4.19194514e-01 6.85219500e-01]\n",
      "[4.17022005e-01 7.20324493e-01 1.14374817e-04 3.02332573e-01\n",
      " 1.46755891e-01 9.23385948e-02 1.86260211e-01 3.45560727e-01\n",
      " 3.96767474e-01]\n"
     ]
    }
   ],
   "source": [
    "import secrets #secrets is better than in the security  the random library\n",
    "\n",
    "a = secrets.randbelow(10) # will print a random number from 0 to 9\n",
    "print(a)\n",
    "\n",
    "\n",
    "b = secrets.randbits(4) # will print a random number from the 0 to 15\n",
    "print(b)\n",
    "\n",
    "mulist = list(\"Youssefsaedthabet\")\n",
    "aa = secrets.choice(mulist)\n",
    "print(aa) \n",
    "\n",
    "import numpy as np\n",
    "np.random.seed(1)\n",
    "print(np.random.rand(3*4))\n",
    "np.random.seed(1)\n",
    "print(np.random.rand(3*3))\n"
   ]
  },
  {
   "cell_type": "markdown",
   "metadata": {},
   "source": [
    "Dealing With the threading "
   ]
  },
  {
   "cell_type": "code",
   "execution_count": 7,
   "metadata": {},
   "outputs": [
    {
     "name": "stdout",
     "output_type": "stream",
     "text": [
      "end main\n",
      "4\n",
      "[<Process name='Process-21' pid=17580 parent=8324 stopped exitcode=1>, <Process name='Process-22' pid=6316 parent=8324 stopped exitcode=1>, <Process name='Process-23' pid=6824 parent=8324 stopped exitcode=1>, <Process name='Process-24' pid=16176 parent=8324 stopped exitcode=1>]\n"
     ]
    }
   ],
   "source": [
    "from multiprocessing import Process\n",
    "import os,time\n",
    "\n",
    "def spuarenums():\n",
    "    for i in range (100):\n",
    "        i*i\n",
    "        time.sleep(0.1)\n",
    "processes = []\n",
    "num_processes = os.cpu_count()\n",
    "\n",
    "\n",
    "for i in range (num_processes):\n",
    "    p = Process(target=spuarenums)\n",
    "    processes.append(p)\n",
    "\n",
    "for p in processes:\n",
    "    p.start()\n",
    "\n",
    "for p in processes:\n",
    "    p.join() \n",
    "print('end main')\n",
    "print(num_processes)\n",
    "print(list(processes))           \n"
   ]
  },
  {
   "cell_type": "markdown",
   "metadata": {},
   "source": [
    "Con't Dealing With The Threading "
   ]
  },
  {
   "cell_type": "code",
   "execution_count": 21,
   "metadata": {},
   "outputs": [
    {
     "name": "stdout",
     "output_type": "stream",
     "text": [
      "Starting database value 0\n",
      "Ending data base value  2\n",
      "End Main\n"
     ]
    }
   ],
   "source": [
    "from threading import Thread,Lock\n",
    "import time\n",
    "\n",
    "database_value = 0\n",
    "\n",
    "def increase(lock):\n",
    "    \n",
    "    global database_value\n",
    "    \n",
    "    with lock:\n",
    "        local_copy = database_value\n",
    "        local_copy += 1\n",
    "        time.sleep(0.1)\n",
    "        database_value = local_copy\n",
    "\n",
    "if __name__ == '__main__':\n",
    "    lock = Lock()\n",
    "    print(\"Starting database value\", database_value)\n",
    "    thread1 = Thread(target=increase,args=(lock,))\n",
    "    thread2 = Thread(target=increase,args=(lock,))\n",
    "    \n",
    "    thread1.start()\n",
    "    thread2.start()\n",
    "    \n",
    "    thread1.join()\n",
    "    thread2.join()\n",
    "\n",
    "    print(\"Ending data base value \", database_value)\n",
    "    print(\"End Main\")\n"
   ]
  },
  {
   "cell_type": "markdown",
   "metadata": {},
   "source": [
    "Dealing With The MutliProcessing"
   ]
  },
  {
   "cell_type": "code",
   "execution_count": 15,
   "metadata": {},
   "outputs": [
    {
     "name": "stdout",
     "output_type": "stream",
     "text": [
      "Numner at The beginning is  0\n",
      "Number at the end is  0\n"
     ]
    }
   ],
   "source": [
    "from multiprocessing import Process , Value, Array, Lock\n",
    "import os,time\n",
    "\n",
    "def add_100(number,lock):\n",
    "    for i in range (100):\n",
    "        time.sleep(0.01)\n",
    "        lock.acquire()\n",
    "        number.value += 1\n",
    "        lock.release()\n",
    "        \n",
    "if __name__ == \"__main__\":\n",
    "\n",
    "    lock = Lock()\n",
    "    shared_number = Value('i' , 0)\n",
    "    print(\"Numner at The beginning is \", shared_number.value)\n",
    "\n",
    "    p1 = Process(target=add_100,args=(shared_number,lock))\n",
    "    p2 = Process(target=add_100,args=(shared_number,lock))\n",
    "\n",
    "    p1.start()\n",
    "    p2.start()\n",
    "\n",
    "\n",
    "    p1.join()\n",
    "    p2.join()\n",
    "\n",
    "\n",
    "\n",
    "    print(\"Number at the end is \",shared_number.value)\n",
    "\n",
    "\n",
    "\n",
    "\n",
    "\n",
    "\n",
    "\n"
   ]
  },
  {
   "cell_type": "markdown",
   "metadata": {},
   "source": [
    "Dealing With The Functions "
   ]
  },
  {
   "cell_type": "code",
   "execution_count": 16,
   "metadata": {},
   "outputs": [
    {
     "name": "stdout",
     "output_type": "stream",
     "text": [
      "1 2\n",
      "3\n",
      "4\n",
      "5\n",
      "six 6\n",
      "seven 7\n",
      "1 2 3\n",
      "Hello\n",
      "Youssef\n",
      "Saeed\n",
      "1\n",
      "2\n",
      "youssef == Youssef \n",
      "Saeed == Saeed \n",
      "Thabet == Thabet \n",
      "1 2 3\n",
      "number inside the function is  5\n",
      "3\n",
      "[1, 2, 3, 4, 100, 200, 300]\n",
      "[1, 2, 3, 4]\n"
     ]
    }
   ],
   "source": [
    "def foo(a, b ,*args ,**kwargs):\n",
    "    print(a, b)\n",
    "    for arg in args:\n",
    "        print(arg)\n",
    "    for key in kwargs:\n",
    "        print(key,kwargs[key])\n",
    "foo(1,2,3,4,5,six=6,seven=7)\n",
    "\n",
    "\n",
    "\n",
    "def fooo(a,b,c):\n",
    "    print(a,b,c)\n",
    "mylist = [1,2,3]\n",
    "fooo(*mylist)    \n",
    "\n",
    "\n",
    "\n",
    "'''\n",
    "The difference between the *args and the **kwargs arguments\n",
    "- The *args do not need the keyword and the value\n",
    "- The **kwargs need The keyword and the value   \n",
    "- Both can You put any arguments You need \n",
    "'''\n",
    "\n",
    "def fun1(*args):\n",
    "    for arg in args:\n",
    "        print(arg)\n",
    "fun1(\"Hello\",\"Youssef\",\"Saeed\",1,2)\n",
    "\n",
    "\n",
    "def fun2(**kwargs):\n",
    "    for key, value in kwargs.items():\n",
    "        print(\"%s == %s \"% (key,value))\n",
    "fun2(youssef=\"Youssef\",Saeed=\"Saeed\",Thabet = \"Thabet\")\n",
    "\n",
    "\n",
    "def fo1(a,b,c):\n",
    "    print(a,b,c)\n",
    "mydict = {'a':1,'b':2,'c':3}\n",
    "fo1(**mydict)  \n",
    "\n",
    "\n",
    "def fo2():\n",
    "    global number\n",
    "    x=number\n",
    "    number = 3\n",
    "    print(\"number inside the function is \",x)\n",
    "number =5\n",
    "fo2()   \n",
    "print(number) \n",
    "\n",
    "\n",
    "def fo3(a_list):\n",
    "    a_list += [100,200,300]\n",
    "\n",
    "xx = [1,2,3,4]\n",
    "fo3(xx)\n",
    "print(xx)\n",
    "\n",
    "\n",
    "def fo4(a_list):\n",
    "    a_list = a_list + [100,200,300]\n",
    "\n",
    "xx = [1,2,3,4]\n",
    "fo4(xx)\n",
    "print(xx)\n"
   ]
  },
  {
   "cell_type": "markdown",
   "metadata": {},
   "source": [
    "Dealing with the Asterisk Operator"
   ]
  },
  {
   "cell_type": "code",
   "execution_count": 26,
   "metadata": {},
   "outputs": [
    {
     "name": "stdout",
     "output_type": "stream",
     "text": [
      "1 2 3\n",
      "[1, 2, 3, 4, 5]\n",
      "6\n",
      "[[1, 2, 3, 4, 5], [6, 7, 8, 9, 10]]\n",
      "[[100, 2, 3, 4, 5], [6, 7, 8, 9, 10]]\n"
     ]
    }
   ],
   "source": [
    "import copy\n",
    "\n",
    "def foo(a,b,*,c):\n",
    "    print(a,b,c)\n",
    "foo(1,2,c=3)\n",
    "\n",
    "\n",
    "numbers = [1,2,3,4,5,6]\n",
    "*beginning, last = numbers\n",
    "print(beginning)\n",
    "print(last)\n",
    "\n",
    "org = [[1,2,3,4,5],[6,7,8,9,10]]\n",
    "# cpy = copy.copy(org) # all the org and the cpy references to the same values and the same place \n",
    "cpy = copy.deepcopy(org) # each of the cpy and the org references to the same values but not the same place \n",
    "cpy[0][0] = 100\n",
    "print(org)\n",
    "print(cpy)\n"
   ]
  },
  {
   "cell_type": "markdown",
   "metadata": {},
   "source": [
    "Dealing With The Generators"
   ]
  },
  {
   "cell_type": "code",
   "execution_count": 49,
   "metadata": {},
   "outputs": [
    {
     "name": "stdout",
     "output_type": "stream",
     "text": [
      "[1, 4, 9, 16, 25]\n",
      "[1, 4, 9, 16, 25]\n",
      "The people list Took 1.3066391944885254 seconds\n",
      "the people generator Took 0.050343990325927734 seconds\n",
      "The people list took 152 Bytes \n",
      "The people generator  took 152 Bytes \n"
     ]
    }
   ],
   "source": [
    "def squarnums(nums):\n",
    "    results = []\n",
    "    for i in nums:\n",
    "        yield(i*i) # this is the generator\n",
    "my_nums = squarnums([1,2,3,4,5])\n",
    "print(list(my_nums))\n",
    "\n",
    "for num in my_nums:\n",
    "    print(num)\n",
    "\n",
    "\n",
    "my_nums = [x*x for x in [1,2,3,4,5]]\n",
    "print(my_nums)\n",
    "\n",
    "\n",
    "import sys\n",
    "import time\n",
    "import random \n",
    "\n",
    "names = ['Youssef','Joe','saeed','Thabet','gad','ali','nour']\n",
    "majors =  ['CS','ARTS','Bussiness','Commerece','Engineering','IT','Cyber Security']\n",
    "\n",
    "\n",
    "\n",
    "def people_list(num_people):\n",
    "    result = []\n",
    "    for i in range(num_people):\n",
    "        person ={\n",
    "            'id': i,\n",
    "            'name':random.choice(names),\n",
    "            'majors':random.choice(majors)\n",
    "        }\n",
    "        result.append(person)\n",
    "    return result\n",
    "\n",
    "def people_genertaor(num_people):\n",
    "    for i in range(num_people):\n",
    "        person ={\n",
    "            'id': i,\n",
    "            'name':random.choice(names),\n",
    "            'majors':random.choice(majors)\n",
    "        }\n",
    "        yield list(person)    \n",
    "\n",
    "\n",
    "\n",
    "start = time.time()\n",
    "people = people_list(1000000)\n",
    "stop  = time.time()\n",
    "print(\"The people list Took {} seconds\".format(stop-start))\n",
    "\n",
    "start = time.time()\n",
    "people = people_genertaor(1000000)\n",
    "stop  = time.time()\n",
    "print(\"the people generator Took {} seconds\".format(stop-start))\n",
    "print(\"The people list took {} Bytes \".format(sys.getsizeof(people_list)))\n",
    "print(\"The people generator  took {} Bytes \".format(sys.getsizeof(people_genertaor)))\n"
   ]
  },
  {
   "cell_type": "markdown",
   "metadata": {},
   "source": [
    "Dealing With The Decorators(used to enhance the functionality of the functions)"
   ]
  },
  {
   "cell_type": "code",
   "execution_count": 11,
   "metadata": {},
   "outputs": [
    {
     "name": "stdout",
     "output_type": "stream",
     "text": [
      "Calling The Function say_hello \n",
      "Hello World!\n",
      "16\n",
      "100\n",
      "2\n"
     ]
    }
   ],
   "source": [
    "# This is the exmaple one in the decorators \n",
    "def log_function(func):\n",
    "    def wrapper():\n",
    "        print(f\"Calling The Function {func.__name__} \")\n",
    "        return func()\n",
    "    return wrapper    \n",
    "\n",
    "@log_function\n",
    "def say_hello():\n",
    "    return \"Hello World!\"\n",
    "print(say_hello())\n",
    "\n",
    "\n",
    "# This is the example Two in the decorators\n",
    "\n",
    "def square (func):\n",
    "    def wrapper():\n",
    "        val = func()\n",
    "        return val*val\n",
    "    return wrapper\n",
    "def sum(func):\n",
    "    def wrapper():\n",
    "        val = func()\n",
    "        return val+val\n",
    "    return wrapper\n",
    "@square\n",
    "@sum\n",
    "def test1():\n",
    "    return 2\n",
    "@square\n",
    "@sum\n",
    "def test2():\n",
    "    return 5\n",
    "print(test1())\n",
    "print(test2())\n",
    "\n",
    "# The Example Three in the decorators\n",
    "def decorator(func):\n",
    "    def inner(a,b):\n",
    "        if a < b:\n",
    "            a,b=b,a\n",
    "        return func(a,b)\n",
    "    return inner    \n",
    "\n",
    "@decorator\n",
    "def div(a,b):\n",
    "    print(a//b)\n",
    "div(2,4)"
   ]
  }
 ],
 "metadata": {
  "kernelspec": {
   "display_name": "base",
   "language": "python",
   "name": "python3"
  },
  "language_info": {
   "codemirror_mode": {
    "name": "ipython",
    "version": 3
   },
   "file_extension": ".py",
   "mimetype": "text/x-python",
   "name": "python",
   "nbconvert_exporter": "python",
   "pygments_lexer": "ipython3",
   "version": "3.11.5"
  }
 },
 "nbformat": 4,
 "nbformat_minor": 2
}
